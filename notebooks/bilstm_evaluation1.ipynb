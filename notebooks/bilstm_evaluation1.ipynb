{
 "cells": [
  {
   "cell_type": "markdown",
   "metadata": {},
   "source": [
    "# =====================================================\n",
    "\n",
    "# Phase 4 - BiLSTM Evaluation Notebook\n",
    "\n",
    "# =====================================================\n"
   ]
  },
  {
   "cell_type": "code",
   "execution_count": 1,
   "metadata": {},
   "outputs": [],
   "source": [
    "import torch\n",
    "import torch.nn as nn\n",
    "import pandas as pd\n",
    "import numpy as np\n",
    "import matplotlib.pyplot as plt\n",
    "import pickle\n",
    "import sys\n",
    "import os"
   ]
  },
  {
   "cell_type": "markdown",
   "metadata": {},
   "source": [
    "# ----------------------------\n",
    "\n",
    "# 1. Load Dataset + Vocab\n",
    "\n",
    "# ----------------------------\n"
   ]
  },
  {
   "cell_type": "code",
   "execution_count": 2,
   "metadata": {},
   "outputs": [
    {
     "name": "stdout",
     "output_type": "stream",
     "text": [
      "Vocab size: 99\n",
      "Vocab size: 99\n"
     ]
    }
   ],
   "source": [
    "sys.path.append('..')\n",
    "\n",
    "df = pd.read_csv(\"../data/clean_dataset.csv\")\n",
    "sample_df = df.sample(100, random_state=42)\n",
    "\n",
    "# ----------------------------\n",
    "# 2. Load BPE Tokenizer\n",
    "# (re-train small tokenizer here if needed)\n",
    "# ----------------------------\n",
    "class BPETokenizer:\n",
    "    def __init__(self):\n",
    "        pass\n",
    "    def encode(self, text):\n",
    "        return list(text)   # simple char-level for demo\n",
    "    def decode(self, tokens):\n",
    "        return \"\".join(tokens)\n",
    "\n",
    "bpe = BPETokenizer()\n",
    "sequences = [bpe.encode(c) for c in sample_df['code'].astype(str)]\n",
    "\n",
    "# Build vocab\n",
    "all_tokens = [t for seq in sequences for t in seq]\n",
    "vocab = list(set(all_tokens))\n",
    "word_to_idx = {w: i for i, w in enumerate(vocab)}\n",
    "idx_to_word = {i: w for w, i in word_to_idx.items()}\n",
    "\n",
    "print(\"Vocab size:\", len(vocab))\n",
    "sequences = [bpe.encode(c) for c in sample_df['code'].astype(str)]\n",
    "\n",
    "# Build vocab\n",
    "all_tokens = [t for seq in sequences for t in seq]\n",
    "vocab = list(set(all_tokens))\n",
    "word_to_idx = {w: i for i, w in enumerate(vocab)}\n",
    "idx_to_word = {i: w for w, i in word_to_idx.items()}\n",
    "\n",
    "print(\"Vocab size:\", len(vocab))"
   ]
  },
  {
   "cell_type": "markdown",
   "metadata": {},
   "source": [
    "# ----------------------------\n",
    "\n",
    "# 2. Define BiLSTM Model\n",
    "\n",
    "# ----------------------------\n"
   ]
  },
  {
   "cell_type": "code",
   "execution_count": 3,
   "metadata": {},
   "outputs": [
    {
     "ename": "RuntimeError",
     "evalue": "Error(s) in loading state_dict for BiLSTMLM:\n\tsize mismatch for embed.weight: copying a param with shape torch.Size([677, 100]) from checkpoint, the shape in current model is torch.Size([99, 100]).\n\tsize mismatch for fc.weight: copying a param with shape torch.Size([677, 256]) from checkpoint, the shape in current model is torch.Size([99, 256]).\n\tsize mismatch for fc.bias: copying a param with shape torch.Size([677]) from checkpoint, the shape in current model is torch.Size([99]).",
     "output_type": "error",
     "traceback": [
      "\u001b[1;31m---------------------------------------------------------------------------\u001b[0m",
      "\u001b[1;31mRuntimeError\u001b[0m                              Traceback (most recent call last)",
      "Cell \u001b[1;32mIn[3], line 17\u001b[0m\n\u001b[0;32m     14\u001b[0m device \u001b[38;5;241m=\u001b[39m \u001b[38;5;124m\"\u001b[39m\u001b[38;5;124mcuda\u001b[39m\u001b[38;5;124m\"\u001b[39m \u001b[38;5;28;01mif\u001b[39;00m torch\u001b[38;5;241m.\u001b[39mcuda\u001b[38;5;241m.\u001b[39mis_available() \u001b[38;5;28;01melse\u001b[39;00m \u001b[38;5;124m\"\u001b[39m\u001b[38;5;124mcpu\u001b[39m\u001b[38;5;124m\"\u001b[39m\n\u001b[0;32m     16\u001b[0m model \u001b[38;5;241m=\u001b[39m BiLSTMLM(\u001b[38;5;28mlen\u001b[39m(vocab))\u001b[38;5;241m.\u001b[39mto(device)\n\u001b[1;32m---> 17\u001b[0m \u001b[43mmodel\u001b[49m\u001b[38;5;241;43m.\u001b[39;49m\u001b[43mload_state_dict\u001b[49m\u001b[43m(\u001b[49m\u001b[43mtorch\u001b[49m\u001b[38;5;241;43m.\u001b[39;49m\u001b[43mload\u001b[49m\u001b[43m(\u001b[49m\u001b[38;5;124;43m\"\u001b[39;49m\u001b[38;5;124;43m../bilstm/bilstm_model.pt\u001b[39;49m\u001b[38;5;124;43m\"\u001b[39;49m\u001b[43m,\u001b[49m\u001b[43m \u001b[49m\u001b[43mmap_location\u001b[49m\u001b[38;5;241;43m=\u001b[39;49m\u001b[43mdevice\u001b[49m\u001b[43m)\u001b[49m\u001b[43m)\u001b[49m\n\u001b[0;32m     18\u001b[0m model\u001b[38;5;241m.\u001b[39meval()\n\u001b[0;32m     20\u001b[0m \u001b[38;5;28mprint\u001b[39m(\u001b[38;5;124m\"\u001b[39m\u001b[38;5;124m✅ Model loaded\u001b[39m\u001b[38;5;124m\"\u001b[39m)\n",
      "File \u001b[1;32mc:\\Users\\Dell\\OneDrive\\Desktop\\GenerativeAI_Project\\venv\\lib\\site-packages\\torch\\nn\\modules\\module.py:2624\u001b[0m, in \u001b[0;36mModule.load_state_dict\u001b[1;34m(self, state_dict, strict, assign)\u001b[0m\n\u001b[0;32m   2616\u001b[0m         error_msgs\u001b[38;5;241m.\u001b[39minsert(\n\u001b[0;32m   2617\u001b[0m             \u001b[38;5;241m0\u001b[39m,\n\u001b[0;32m   2618\u001b[0m             \u001b[38;5;124m\"\u001b[39m\u001b[38;5;124mMissing key(s) in state_dict: \u001b[39m\u001b[38;5;132;01m{}\u001b[39;00m\u001b[38;5;124m. \u001b[39m\u001b[38;5;124m\"\u001b[39m\u001b[38;5;241m.\u001b[39mformat(\n\u001b[0;32m   2619\u001b[0m                 \u001b[38;5;124m\"\u001b[39m\u001b[38;5;124m, \u001b[39m\u001b[38;5;124m\"\u001b[39m\u001b[38;5;241m.\u001b[39mjoin(\u001b[38;5;124mf\u001b[39m\u001b[38;5;124m'\u001b[39m\u001b[38;5;124m\"\u001b[39m\u001b[38;5;132;01m{\u001b[39;00mk\u001b[38;5;132;01m}\u001b[39;00m\u001b[38;5;124m\"\u001b[39m\u001b[38;5;124m'\u001b[39m \u001b[38;5;28;01mfor\u001b[39;00m k \u001b[38;5;129;01min\u001b[39;00m missing_keys)\n\u001b[0;32m   2620\u001b[0m             ),\n\u001b[0;32m   2621\u001b[0m         )\n\u001b[0;32m   2623\u001b[0m \u001b[38;5;28;01mif\u001b[39;00m \u001b[38;5;28mlen\u001b[39m(error_msgs) \u001b[38;5;241m>\u001b[39m \u001b[38;5;241m0\u001b[39m:\n\u001b[1;32m-> 2624\u001b[0m     \u001b[38;5;28;01mraise\u001b[39;00m \u001b[38;5;167;01mRuntimeError\u001b[39;00m(\n\u001b[0;32m   2625\u001b[0m         \u001b[38;5;124m\"\u001b[39m\u001b[38;5;124mError(s) in loading state_dict for \u001b[39m\u001b[38;5;132;01m{}\u001b[39;00m\u001b[38;5;124m:\u001b[39m\u001b[38;5;130;01m\\n\u001b[39;00m\u001b[38;5;130;01m\\t\u001b[39;00m\u001b[38;5;132;01m{}\u001b[39;00m\u001b[38;5;124m\"\u001b[39m\u001b[38;5;241m.\u001b[39mformat(\n\u001b[0;32m   2626\u001b[0m             \u001b[38;5;28mself\u001b[39m\u001b[38;5;241m.\u001b[39m\u001b[38;5;18m__class__\u001b[39m\u001b[38;5;241m.\u001b[39m\u001b[38;5;18m__name__\u001b[39m, \u001b[38;5;124m\"\u001b[39m\u001b[38;5;130;01m\\n\u001b[39;00m\u001b[38;5;130;01m\\t\u001b[39;00m\u001b[38;5;124m\"\u001b[39m\u001b[38;5;241m.\u001b[39mjoin(error_msgs)\n\u001b[0;32m   2627\u001b[0m         )\n\u001b[0;32m   2628\u001b[0m     )\n\u001b[0;32m   2629\u001b[0m \u001b[38;5;28;01mreturn\u001b[39;00m _IncompatibleKeys(missing_keys, unexpected_keys)\n",
      "\u001b[1;31mRuntimeError\u001b[0m: Error(s) in loading state_dict for BiLSTMLM:\n\tsize mismatch for embed.weight: copying a param with shape torch.Size([677, 100]) from checkpoint, the shape in current model is torch.Size([99, 100]).\n\tsize mismatch for fc.weight: copying a param with shape torch.Size([677, 256]) from checkpoint, the shape in current model is torch.Size([99, 256]).\n\tsize mismatch for fc.bias: copying a param with shape torch.Size([677]) from checkpoint, the shape in current model is torch.Size([99])."
     ]
    }
   ],
   "source": [
    "class BiLSTMLM(nn.Module):\n",
    "    def __init__(self, vocab_size, embed_dim=100, hidden_dim=128, num_layers=2):\n",
    "        super().__init__()\n",
    "        self.embed = nn.Embedding(vocab_size, embed_dim)\n",
    "        self.lstm = nn.LSTM(embed_dim, hidden_dim, num_layers=num_layers,\n",
    "                            batch_first=True, bidirectional=True)\n",
    "        self.fc = nn.Linear(hidden_dim*2, vocab_size)\n",
    "    def forward(self, x):\n",
    "        x = self.embed(x)\n",
    "        out, _ = self.lstm(x)\n",
    "        out = self.fc(out)\n",
    "        return out\n",
    "\n",
    "device = \"cuda\" if torch.cuda.is_available() else \"cpu\"\n",
    "\n",
    "model = BiLSTMLM(len(vocab)).to(device)\n",
    "model.load_state_dict(torch.load(\"../bilstm/bilstm_model.pt\", map_location=device))\n",
    "model.eval()\n",
    "\n",
    "print(\"✅ Model loaded\")"
   ]
  },
  {
   "cell_type": "markdown",
   "metadata": {},
   "source": [
    "# ----------------------------\n",
    "\n",
    "# 3. Evaluate Perplexity\n",
    "\n",
    "# ----------------------------\n"
   ]
  },
  {
   "cell_type": "code",
   "execution_count": null,
   "metadata": {},
   "outputs": [],
   "source": [
    "def compute_perplexity(model, sequences, seq_len=20):\n",
    "    model.eval()\n",
    "    losses = []\n",
    "    criterion = nn.CrossEntropyLoss()\n",
    "    for seq in sequences[:200]:  # limit to 200 samples for speed\n",
    "        idxs = [word_to_idx[t] for t in seq if t in word_to_idx]\n",
    "        for i in range(len(idxs) - seq_len):\n",
    "            X = torch.tensor(idxs[i:i+seq_len], dtype=torch.long).unsqueeze(0).to(device)\n",
    "            Y = torch.tensor(idxs[i+1:i+seq_len+1], dtype=torch.long).unsqueeze(0).to(device)\n",
    "            with torch.no_grad():\n",
    "                out = model(X)\n",
    "                loss = criterion(out.view(-1, len(vocab)), Y.view(-1))\n",
    "                losses.append(loss.item())\n",
    "    avg_loss = np.mean(losses)\n",
    "    return np.exp(avg_loss)\n",
    "\n",
    "ppl = compute_perplexity(model, sequences)\n",
    "print(f\"\\nModel Perplexity: {ppl:.2f}\")\n"
   ]
  },
  {
   "cell_type": "markdown",
   "metadata": {},
   "source": [
    "# ----------------------------\n",
    "\n",
    "# 4. Text Generation\n",
    "\n",
    "# ----------------------------\n"
   ]
  },
  {
   "cell_type": "code",
   "execution_count": null,
   "metadata": {},
   "outputs": [],
   "source": [
    "def generate_text(model, start_token=\"d\", length=100):\n",
    "    model.eval()\n",
    "    tokens = [word_to_idx.get(start_token, 0)]\n",
    "    for _ in range(length):\n",
    "        inp = torch.tensor(tokens[-20:], dtype=torch.long).unsqueeze(0).to(device)\n",
    "        with torch.no_grad():\n",
    "            out = model(inp)\n",
    "            next_token = torch.argmax(out[0, -1]).item()\n",
    "        tokens.append(next_token)\n",
    "    return bpe.decode([idx_to_word[i] for i in tokens])\n",
    "\n",
    "print(\"\\nGenerated text sample:\\n\")\n",
    "print(generate_text(model, start_token=\"d\", length=200))\n"
   ]
  }
 ],
 "metadata": {
  "kernelspec": {
   "display_name": "venv",
   "language": "python",
   "name": "python3"
  },
  "language_info": {
   "codemirror_mode": {
    "name": "ipython",
    "version": 3
   },
   "file_extension": ".py",
   "mimetype": "text/x-python",
   "name": "python",
   "nbconvert_exporter": "python",
   "pygments_lexer": "ipython3",
   "version": "3.10.11"
  }
 },
 "nbformat": 4,
 "nbformat_minor": 4
}
