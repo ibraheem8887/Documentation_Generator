{
 "cells": [
  {
   "cell_type": "code",
   "execution_count": 1,
   "id": "7ef690e3",
   "metadata": {},
   "outputs": [],
   "source": [
    "# =====================================================\n",
    "# Phase 3 - Word2Vec Evaluation Notebook\n",
    "# =====================================================\n",
    "\n",
    "import torch\n",
    "import torch.nn as nn\n",
    "import pandas as pd\n",
    "import numpy as np\n",
    "from sklearn.decomposition import PCA\n",
    "from sklearn.manifold import TSNE\n",
    "import matplotlib.pyplot as plt"
   ]
  },
  {
   "cell_type": "code",
   "execution_count": 2,
   "id": "d3513f41",
   "metadata": {},
   "outputs": [
    {
     "name": "stdout",
     "output_type": "stream",
     "text": [
      "Vocab size: 382\n",
      "Model loaded ✅\n"
     ]
    }
   ],
   "source": [
    "# ----------------------------\n",
    "# 1. Load vocab + model\n",
    "# ----------------------------\n",
    "# Load vocab (rebuild the same way as training)\n",
    "df = pd.read_csv(\"../data/clean_dataset.csv\")\n",
    "\n",
    "# For evaluation, rebuild a small vocab from sample\n",
    "sample_df = df.sample(2000, random_state=42)\n",
    "all_tokens = [list(code) for code in sample_df['code'].astype(str)] + \\\n",
    "             [list(doc) for doc in sample_df['docstring'].astype(str)]\n",
    "\n",
    "flat_tokens = [tok for seq in all_tokens for tok in seq]\n",
    "vocab = list(set(flat_tokens))\n",
    "word_to_idx = {w: i for i, w in enumerate(vocab)}\n",
    "idx_to_word = {i: w for w, i in word_to_idx.items()}\n",
    "\n",
    "print(\"Vocab size:\", len(vocab))\n",
    "\n",
    "# Define Word2Vec (must match training!)\n",
    "class Word2Vec(nn.Module):\n",
    "    def __init__(self, vocab_size, embed_dim):\n",
    "        super().__init__()\n",
    "        self.embeddings = nn.Embedding(vocab_size, embed_dim)\n",
    "        self.output = nn.Linear(embed_dim, vocab_size)\n",
    "    def forward(self, x):\n",
    "        emb = self.embeddings(x)\n",
    "        return self.output(emb)\n",
    "\n",
    "# Load trained model\n",
    "EMBED_DIM = 50\n",
    "device = \"cuda\" if torch.cuda.is_available() else \"cpu\"\n",
    "\n",
    "model = Word2Vec(len(vocab), EMBED_DIM).to(device)\n",
    "model.load_state_dict(torch.load(\"../word2vec/word2vec_model.pt\", map_location=device))\n",
    "model.eval()\n",
    "\n",
    "print(\"Model loaded ✅\")"
   ]
  },
  {
   "cell_type": "code",
   "execution_count": 3,
   "id": "515a1048",
   "metadata": {},
   "outputs": [],
   "source": [
    "import torch.nn.functional as F\n",
    "\n",
    "def get_vector(word):\n",
    "    idx = word_to_idx.get(word, None)\n",
    "    if idx is None:\n",
    "        return None\n",
    "    tensor = torch.tensor([idx], dtype=torch.long).to(device)\n",
    "    return model.embeddings(tensor).detach().cpu().numpy()[0]\n",
    "\n",
    "def cosine_similarity(vec1, vec2):\n",
    "    return np.dot(vec1, vec2) / (np.linalg.norm(vec1) * np.linalg.norm(vec2))\n",
    "\n",
    "def most_similar(word, top_n=5):\n",
    "    vec = get_vector(word)\n",
    "    if vec is None:\n",
    "        return []\n",
    "    sims = {}\n",
    "    for other in vocab:\n",
    "        if other == word: continue\n",
    "        o_vec = get_vector(other)\n",
    "        if o_vec is not None:\n",
    "            sims[other] = cosine_similarity(vec, o_vec)\n",
    "    return sorted(sims.items(), key=lambda x: x[1], reverse=True)[:top_n]\n"
   ]
  },
  {
   "cell_type": "code",
   "execution_count": 4,
   "id": "1690ad74",
   "metadata": {},
   "outputs": [
    {
     "name": "stdout",
     "output_type": "stream",
     "text": [
      "\n",
      "Most similar to 'd':\n"
     ]
    },
    {
     "name": "stdout",
     "output_type": "stream",
     "text": [
      "  5 -> 0.387\n",
      "  ê -> 0.371\n",
      "  行 -> 0.359\n",
      "  H -> 0.323\n",
      "  远 -> 0.314\n",
      "\n",
      "Most similar to 'e':\n",
      "  执 -> 0.350\n",
      "  填 -> 0.348\n",
      "  P -> 0.340\n",
      "  响 -> 0.322\n",
      "  ầ -> 0.319\n",
      "\n",
      "Most similar to 'f':\n",
      "  端 -> 0.392\n",
      "  8 -> 0.387\n",
      "  = -> 0.387\n",
      "  đ -> 0.360\n",
      "  转 -> 0.328\n",
      "\n",
      "Most similar to '(':\n",
      "  测 -> 0.454\n",
      "  继 -> 0.364\n",
      "  （ -> 0.328\n",
      "  必 -> 0.318\n",
      "  , -> 0.308\n",
      "\n",
      "Most similar to ')':\n",
      "  删 -> 0.487\n",
      "  容 -> 0.355\n",
      "  ; -> 0.352\n",
      "  体 -> 0.347\n",
      "  在 -> 0.332\n"
     ]
    }
   ],
   "source": [
    "test_words = [\"d\", \"e\", \"f\", \"(\", \")\"]  # pick chars likely in vocab\n",
    "for w in test_words:\n",
    "    print(f\"\\nMost similar to '{w}':\")\n",
    "    for sim_word, score in most_similar(w, top_n=5):\n",
    "        print(f\"  {sim_word} -> {score:.3f}\")\n"
   ]
  },
  {
   "cell_type": "code",
   "execution_count": 5,
   "id": "9dc801fa",
   "metadata": {},
   "outputs": [
    {
     "name": "stderr",
     "output_type": "stream",
     "text": [
      "c:\\Users\\Dell\\OneDrive\\Desktop\\GenerativeAI_Project\\venv\\lib\\site-packages\\IPython\\core\\pylabtools.py:170: UserWarning: Glyph 31649 (\\N{CJK UNIFIED IDEOGRAPH-7BA1}) missing from font(s) DejaVu Sans.\n",
      "  fig.canvas.print_figure(bytes_io, **kw)\n",
      "c:\\Users\\Dell\\OneDrive\\Desktop\\GenerativeAI_Project\\venv\\lib\\site-packages\\IPython\\core\\pylabtools.py:170: UserWarning: Glyph 36319 (\\N{CJK UNIFIED IDEOGRAPH-8DDF}) missing from font(s) DejaVu Sans.\n",
      "  fig.canvas.print_figure(bytes_io, **kw)\n",
      "c:\\Users\\Dell\\OneDrive\\Desktop\\GenerativeAI_Project\\venv\\lib\\site-packages\\IPython\\core\\pylabtools.py:170: UserWarning: Glyph 23481 (\\N{CJK UNIFIED IDEOGRAPH-5BB9}) missing from font(s) DejaVu Sans.\n",
      "  fig.canvas.print_figure(bytes_io, **kw)\n",
      "c:\\Users\\Dell\\OneDrive\\Desktop\\GenerativeAI_Project\\venv\\lib\\site-packages\\IPython\\core\\pylabtools.py:170: UserWarning: Glyph 31449 (\\N{CJK UNIFIED IDEOGRAPH-7AD9}) missing from font(s) DejaVu Sans.\n",
      "  fig.canvas.print_figure(bytes_io, **kw)\n",
      "c:\\Users\\Dell\\OneDrive\\Desktop\\GenerativeAI_Project\\venv\\lib\\site-packages\\IPython\\core\\pylabtools.py:170: UserWarning: Glyph 24120 (\\N{CJK UNIFIED IDEOGRAPH-5E38}) missing from font(s) DejaVu Sans.\n",
      "  fig.canvas.print_figure(bytes_io, **kw)\n",
      "c:\\Users\\Dell\\OneDrive\\Desktop\\GenerativeAI_Project\\venv\\lib\\site-packages\\IPython\\core\\pylabtools.py:170: UserWarning: Glyph 20026 (\\N{CJK UNIFIED IDEOGRAPH-4E3A}) missing from font(s) DejaVu Sans.\n",
      "  fig.canvas.print_figure(bytes_io, **kw)\n",
      "c:\\Users\\Dell\\OneDrive\\Desktop\\GenerativeAI_Project\\venv\\lib\\site-packages\\IPython\\core\\pylabtools.py:170: UserWarning: Glyph 20869 (\\N{CJK UNIFIED IDEOGRAPH-5185}) missing from font(s) DejaVu Sans.\n",
      "  fig.canvas.print_figure(bytes_io, **kw)\n",
      "c:\\Users\\Dell\\OneDrive\\Desktop\\GenerativeAI_Project\\venv\\lib\\site-packages\\IPython\\core\\pylabtools.py:170: UserWarning: Glyph 32622 (\\N{CJK UNIFIED IDEOGRAPH-7F6E}) missing from font(s) DejaVu Sans.\n",
      "  fig.canvas.print_figure(bytes_io, **kw)\n",
      "c:\\Users\\Dell\\OneDrive\\Desktop\\GenerativeAI_Project\\venv\\lib\\site-packages\\IPython\\core\\pylabtools.py:170: UserWarning: Glyph 25955 (\\N{CJK UNIFIED IDEOGRAPH-6563}) missing from font(s) DejaVu Sans.\n",
      "  fig.canvas.print_figure(bytes_io, **kw)\n",
      "c:\\Users\\Dell\\OneDrive\\Desktop\\GenerativeAI_Project\\venv\\lib\\site-packages\\IPython\\core\\pylabtools.py:170: UserWarning: Glyph 24517 (\\N{CJK UNIFIED IDEOGRAPH-5FC5}) missing from font(s) DejaVu Sans.\n",
      "  fig.canvas.print_figure(bytes_io, **kw)\n",
      "c:\\Users\\Dell\\OneDrive\\Desktop\\GenerativeAI_Project\\venv\\lib\\site-packages\\IPython\\core\\pylabtools.py:170: UserWarning: Glyph 44284 (\\N{HANGUL SYLLABLE GWA}) missing from font(s) DejaVu Sans.\n",
      "  fig.canvas.print_figure(bytes_io, **kw)\n",
      "c:\\Users\\Dell\\OneDrive\\Desktop\\GenerativeAI_Project\\venv\\lib\\site-packages\\IPython\\core\\pylabtools.py:170: UserWarning: Glyph 20030 (\\N{CJK UNIFIED IDEOGRAPH-4E3E}) missing from font(s) DejaVu Sans.\n",
      "  fig.canvas.print_figure(bytes_io, **kw)\n",
      "c:\\Users\\Dell\\OneDrive\\Desktop\\GenerativeAI_Project\\venv\\lib\\site-packages\\IPython\\core\\pylabtools.py:170: UserWarning: Glyph 24687 (\\N{CJK UNIFIED IDEOGRAPH-606F}) missing from font(s) DejaVu Sans.\n",
      "  fig.canvas.print_figure(bytes_io, **kw)\n",
      "c:\\Users\\Dell\\OneDrive\\Desktop\\GenerativeAI_Project\\venv\\lib\\site-packages\\IPython\\core\\pylabtools.py:170: UserWarning: Glyph 21015 (\\N{CJK UNIFIED IDEOGRAPH-5217}) missing from font(s) DejaVu Sans.\n",
      "  fig.canvas.print_figure(bytes_io, **kw)\n",
      "c:\\Users\\Dell\\OneDrive\\Desktop\\GenerativeAI_Project\\venv\\lib\\site-packages\\IPython\\core\\pylabtools.py:170: UserWarning: Glyph 25991 (\\N{CJK UNIFIED IDEOGRAPH-6587}) missing from font(s) DejaVu Sans.\n",
      "  fig.canvas.print_figure(bytes_io, **kw)\n",
      "c:\\Users\\Dell\\OneDrive\\Desktop\\GenerativeAI_Project\\venv\\lib\\site-packages\\IPython\\core\\pylabtools.py:170: UserWarning: Glyph 21153 (\\N{CJK UNIFIED IDEOGRAPH-52A1}) missing from font(s) DejaVu Sans.\n",
      "  fig.canvas.print_figure(bytes_io, **kw)\n",
      "c:\\Users\\Dell\\OneDrive\\Desktop\\GenerativeAI_Project\\venv\\lib\\site-packages\\IPython\\core\\pylabtools.py:170: UserWarning: Glyph 21344 (\\N{CJK UNIFIED IDEOGRAPH-5360}) missing from font(s) DejaVu Sans.\n",
      "  fig.canvas.print_figure(bytes_io, **kw)\n",
      "c:\\Users\\Dell\\OneDrive\\Desktop\\GenerativeAI_Project\\venv\\lib\\site-packages\\IPython\\core\\pylabtools.py:170: UserWarning: Glyph 26080 (\\N{CJK UNIFIED IDEOGRAPH-65E0}) missing from font(s) DejaVu Sans.\n",
      "  fig.canvas.print_figure(bytes_io, **kw)\n",
      "c:\\Users\\Dell\\OneDrive\\Desktop\\GenerativeAI_Project\\venv\\lib\\site-packages\\IPython\\core\\pylabtools.py:170: UserWarning: Glyph 22120 (\\N{CJK UNIFIED IDEOGRAPH-5668}) missing from font(s) DejaVu Sans.\n",
      "  fig.canvas.print_figure(bytes_io, **kw)\n",
      "c:\\Users\\Dell\\OneDrive\\Desktop\\GenerativeAI_Project\\venv\\lib\\site-packages\\IPython\\core\\pylabtools.py:170: UserWarning: Glyph 23545 (\\N{CJK UNIFIED IDEOGRAPH-5BF9}) missing from font(s) DejaVu Sans.\n",
      "  fig.canvas.print_figure(bytes_io, **kw)\n",
      "c:\\Users\\Dell\\OneDrive\\Desktop\\GenerativeAI_Project\\venv\\lib\\site-packages\\IPython\\core\\pylabtools.py:170: UserWarning: Glyph 20110 (\\N{CJK UNIFIED IDEOGRAPH-4E8E}) missing from font(s) DejaVu Sans.\n",
      "  fig.canvas.print_figure(bytes_io, **kw)\n",
      "c:\\Users\\Dell\\OneDrive\\Desktop\\GenerativeAI_Project\\venv\\lib\\site-packages\\IPython\\core\\pylabtools.py:170: UserWarning: Glyph 35813 (\\N{CJK UNIFIED IDEOGRAPH-8BE5}) missing from font(s) DejaVu Sans.\n",
      "  fig.canvas.print_figure(bytes_io, **kw)\n",
      "c:\\Users\\Dell\\OneDrive\\Desktop\\GenerativeAI_Project\\venv\\lib\\site-packages\\IPython\\core\\pylabtools.py:170: UserWarning: Glyph 35831 (\\N{CJK UNIFIED IDEOGRAPH-8BF7}) missing from font(s) DejaVu Sans.\n",
      "  fig.canvas.print_figure(bytes_io, **kw)\n",
      "c:\\Users\\Dell\\OneDrive\\Desktop\\GenerativeAI_Project\\venv\\lib\\site-packages\\IPython\\core\\pylabtools.py:170: UserWarning: Glyph 20018 (\\N{CJK UNIFIED IDEOGRAPH-4E32}) missing from font(s) DejaVu Sans.\n",
      "  fig.canvas.print_figure(bytes_io, **kw)\n",
      "c:\\Users\\Dell\\OneDrive\\Desktop\\GenerativeAI_Project\\venv\\lib\\site-packages\\IPython\\core\\pylabtools.py:170: UserWarning: Glyph 28857 (\\N{CJK UNIFIED IDEOGRAPH-70B9}) missing from font(s) DejaVu Sans.\n",
      "  fig.canvas.print_figure(bytes_io, **kw)\n",
      "c:\\Users\\Dell\\OneDrive\\Desktop\\GenerativeAI_Project\\venv\\lib\\site-packages\\IPython\\core\\pylabtools.py:170: UserWarning: Glyph 20351 (\\N{CJK UNIFIED IDEOGRAPH-4F7F}) missing from font(s) DejaVu Sans.\n",
      "  fig.canvas.print_figure(bytes_io, **kw)\n",
      "c:\\Users\\Dell\\OneDrive\\Desktop\\GenerativeAI_Project\\venv\\lib\\site-packages\\IPython\\core\\pylabtools.py:170: UserWarning: Glyph 21019 (\\N{CJK UNIFIED IDEOGRAPH-521B}) missing from font(s) DejaVu Sans.\n",
      "  fig.canvas.print_figure(bytes_io, **kw)\n",
      "c:\\Users\\Dell\\OneDrive\\Desktop\\GenerativeAI_Project\\venv\\lib\\site-packages\\IPython\\core\\pylabtools.py:170: UserWarning: Glyph 21333 (\\N{CJK UNIFIED IDEOGRAPH-5355}) missing from font(s) DejaVu Sans.\n",
      "  fig.canvas.print_figure(bytes_io, **kw)\n",
      "c:\\Users\\Dell\\OneDrive\\Desktop\\GenerativeAI_Project\\venv\\lib\\site-packages\\IPython\\core\\pylabtools.py:170: UserWarning: Glyph 26377 (\\N{CJK UNIFIED IDEOGRAPH-6709}) missing from font(s) DejaVu Sans.\n",
      "  fig.canvas.print_figure(bytes_io, **kw)\n",
      "c:\\Users\\Dell\\OneDrive\\Desktop\\GenerativeAI_Project\\venv\\lib\\site-packages\\IPython\\core\\pylabtools.py:170: UserWarning: Glyph 23637 (\\N{CJK UNIFIED IDEOGRAPH-5C55}) missing from font(s) DejaVu Sans.\n",
      "  fig.canvas.print_figure(bytes_io, **kw)\n",
      "c:\\Users\\Dell\\OneDrive\\Desktop\\GenerativeAI_Project\\venv\\lib\\site-packages\\IPython\\core\\pylabtools.py:170: UserWarning: Glyph 32487 (\\N{CJK UNIFIED IDEOGRAPH-7EE7}) missing from font(s) DejaVu Sans.\n",
      "  fig.canvas.print_figure(bytes_io, **kw)\n",
      "c:\\Users\\Dell\\OneDrive\\Desktop\\GenerativeAI_Project\\venv\\lib\\site-packages\\IPython\\core\\pylabtools.py:170: UserWarning: Glyph 32452 (\\N{CJK UNIFIED IDEOGRAPH-7EC4}) missing from font(s) DejaVu Sans.\n",
      "  fig.canvas.print_figure(bytes_io, **kw)\n",
      "c:\\Users\\Dell\\OneDrive\\Desktop\\GenerativeAI_Project\\venv\\lib\\site-packages\\IPython\\core\\pylabtools.py:170: UserWarning: Glyph 35748 (\\N{CJK UNIFIED IDEOGRAPH-8BA4}) missing from font(s) DejaVu Sans.\n",
      "  fig.canvas.print_figure(bytes_io, **kw)\n",
      "c:\\Users\\Dell\\OneDrive\\Desktop\\GenerativeAI_Project\\venv\\lib\\site-packages\\IPython\\core\\pylabtools.py:170: UserWarning: Glyph 26367 (\\N{CJK UNIFIED IDEOGRAPH-66FF}) missing from font(s) DejaVu Sans.\n",
      "  fig.canvas.print_figure(bytes_io, **kw)\n",
      "c:\\Users\\Dell\\OneDrive\\Desktop\\GenerativeAI_Project\\venv\\lib\\site-packages\\IPython\\core\\pylabtools.py:170: UserWarning: Glyph 54045 (\\N{HANGUL SYLLABLE PAB}) missing from font(s) DejaVu Sans.\n",
      "  fig.canvas.print_figure(bytes_io, **kw)\n",
      "c:\\Users\\Dell\\OneDrive\\Desktop\\GenerativeAI_Project\\venv\\lib\\site-packages\\IPython\\core\\pylabtools.py:170: UserWarning: Glyph 47532 (\\N{HANGUL SYLLABLE RI}) missing from font(s) DejaVu Sans.\n",
      "  fig.canvas.print_figure(bytes_io, **kw)\n"
     ]
    },
    {
     "data": {
      "image/png": "[encoded data removed]",
      "text/plain": [
       "<Figure size 1000x800 with 1 Axes>"
      ]
     },
     "metadata": {},
     "output_type": "display_data"
    }
   ],
   "source": [
    "# Get vectors for a random sample of vocab\n",
    "sample_words = np.random.choice(vocab, size=50, replace=False)\n",
    "vectors = np.array([get_vector(w) for w in sample_words])\n",
    "\n",
    "# Reduce dimensions\n",
    "pca = PCA(n_components=2)\n",
    "reduced = pca.fit_transform(vectors)\n",
    "\n",
    "# Plot\n",
    "plt.figure(figsize=(10,8))\n",
    "plt.scatter(reduced[:,0], reduced[:,1], c=\"blue\")\n",
    "\n",
    "for i, word in enumerate(sample_words):\n",
    "    plt.annotate(word, (reduced[i,0], reduced[i,1]))\n",
    "\n",
    "plt.title(\"Word2Vec Embedding Visualization (PCA)\")\n",
    "plt.show()\n"
   ]
  }
 ],
 "metadata": {
  "kernelspec": {
   "display_name": "venv",
   "language": "python",
   "name": "python3"
  },
  "language_info": {
   "codemirror_mode": {
    "name": "ipython",
    "version": 3
   },
   "file_extension": ".py",
   "mimetype": "text/x-python",
   "name": "python",
   "nbconvert_exporter": "python",
   "pygments_lexer": "ipython3",
   "version": "3.10.11"
  }
 },
 "nbformat": 4,
 "nbformat_minor": 5
}
