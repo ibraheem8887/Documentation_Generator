{
 "cells": [
  {
   "cell_type": "code",
   "execution_count": 2,
   "metadata": {},
   "outputs": [],
   "source": [
    "import sys\n",
    "import os\n",
    "import pandas as pd\n",
    "import pickle"
   ]
  },
  {
   "cell_type": "code",
   "execution_count": 3,
   "metadata": {},
   "outputs": [],
   "source": [
    "# ----------------------------\n",
    "# 1. Add project root to path\n",
    "# ----------------------------\n",
    "sys.path.append(os.path.abspath(\"..\"))\n",
    "from bpe.bpe_tokenizer import BPETokenizer"
   ]
  },
  {
   "cell_type": "code",
   "execution_count": 4,
   "metadata": {},
   "outputs": [],
   "source": [
    "# ----------------------------\n",
    "# 2. Load cleaned dataset\n",
    "# ----------------------------\n",
    "df = pd.read_csv(\"../data/clean_dataset.csv\")"
   ]
  },
  {
   "cell_type": "code",
   "execution_count": 5,
   "metadata": {},
   "outputs": [],
   "source": [
    "# ----------------------------\n",
    "# 3. Use only a subset for faster training\n",
    "# ----------------------------\n",
    "# Start with 5000 rows; if still slow, try 1000\n",
    "sample_df = df.sample(5000, random_state=42)\n",
    "\n",
    "code_texts = sample_df['code'].astype(str).tolist()\n",
    "doc_texts = sample_df['docstring'].astype(str).tolist()"
   ]
  },
  {
   "cell_type": "code",
   "execution_count": 6,
   "metadata": {},
   "outputs": [],
   "source": [
    "# ----------------------------\n",
    "# 4. Train BPE Tokenizers (fewer merges = faster)\n",
    "# ----------------------------\n",
    "bpe_code = BPETokenizer(num_merges=500)   # can later increase to 1000–2000\n",
    "bpe_code.train(code_texts)\n",
    "\n",
    "bpe_doc = BPETokenizer(num_merges=500)\n",
    "bpe_doc.train(doc_texts)"
   ]
  },
  {
   "cell_type": "code",
   "execution_count": 7,
   "metadata": {},
   "outputs": [],
   "source": [
    "# ----------------------------\n",
    "# 5. Save models for later LM training\n",
    "# ----------------------------\n",
    "with open(\"../bpe/bpe_code.pkl\", \"wb\") as f:\n",
    "    pickle.dump(bpe_code, f)\n",
    "with open(\"../bpe/bpe_doc.pkl\", \"wb\") as f:\n",
    "    pickle.dump(bpe_doc, f)"
   ]
  },
  {
   "cell_type": "code",
   "execution_count": 8,
   "metadata": {},
   "outputs": [
    {
     "name": "stdout",
     "output_type": "stream",
     "text": [
      "Original: def add_numbers(a, b): return a+b\n",
      "Encoded: ['def', ' ', 'ad', 'd_', 'n', 'um', 'b', 'er', 's', '(', 'a', ',', ' ', 'b', '):', ' ', 'return', ' ', 'a', '+', 'b', '</w>']\n",
      "Decoded: def add_numbers(a, b): return a+b\n"
     ]
    }
   ],
   "source": [
    "# ----------------------------\n",
    "# 6. Test encoding/decoding\n",
    "# ----------------------------\n",
    "sample_code = \"def add_numbers(a, b): return a+b\"\n",
    "encoded = bpe_code.encode(sample_code)\n",
    "decoded = bpe_code.decode(encoded)\n",
    "\n",
    "print(\"Original:\", sample_code)\n",
    "print(\"Encoded:\", encoded)\n",
    "print(\"Decoded:\", decoded)"
   ]
  }
 ],
 "metadata": {
  "kernelspec": {
   "display_name": "venv",
   "language": "python",
   "name": "python3"
  },
  "language_info": {
   "name": "python",
   "version": "3.10.11"
  }
 },
 "nbformat": 4,
 "nbformat_minor": 2
}
